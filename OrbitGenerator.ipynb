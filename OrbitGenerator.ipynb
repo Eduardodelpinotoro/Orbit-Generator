{
  "nbformat": 4,
  "nbformat_minor": 0,
  "metadata": {
    "colab": {
      "provenance": []
    },
    "kernelspec": {
      "name": "python3",
      "display_name": "Python 3"
    },
    "language_info": {
      "name": "python"
    }
  },
  "cells": [
    {
      "cell_type": "markdown",
      "source": [
        "# Genera la órbita de un objeto a partir del perihelio y del afelio respecto al Sol."
      ],
      "metadata": {
        "id": "oszTynaZbgjW"
      }
    },
    {
      "cell_type": "code",
      "execution_count": null,
      "metadata": {
        "colab": {
          "base_uri": "https://localhost:8080/",
          "height": 616
        },
        "cellView": "form",
        "id": "DD0_ODHHXEnL",
        "outputId": "d8cdc515-b162-4928-9fef-366db1503318"
      },
      "outputs": [
        {
          "name": "stdout",
          "output_type": "stream",
          "text": [
            "Generador de Órbitas\n",
            "Introduce el valor del afelio (en AU): 3.88\n",
            "Introduce el valor del perihelio (en AU): 0.72\n",
            "Introduce el valor de la inclinación (en grados): 9\n"
          ]
        },
        {
          "output_type": "display_data",
          "data": {
            "text/html": [
              "<html>\n",
              "<head><meta charset=\"utf-8\" /></head>\n",
              "<body>\n",
              "    <div>            <script src=\"https://cdnjs.cloudflare.com/ajax/libs/mathjax/2.7.5/MathJax.js?config=TeX-AMS-MML_SVG\"></script><script type=\"text/javascript\">if (window.MathJax && window.MathJax.Hub && window.MathJax.Hub.Config) {window.MathJax.Hub.Config({SVG: {font: \"STIX-Web\"}});}</script>                <script type=\"text/javascript\">window.PlotlyConfig = {MathJaxConfig: 'local'};</script>\n",
              "        <script charset=\"utf-8\" src=\"https://cdn.plot.ly/plotly-2.24.1.min.js\"></script>                <div id=\"f6d3721c-e8f4-4522-b335-2fc0754e8d0e\" class=\"plotly-graph-div\" style=\"height:525px; width:100%;\"></div>            <script type=\"text/javascript\">                                    window.PLOTLYENV=window.PLOTLYENV || {};                                    if (document.getElementById(\"f6d3721c-e8f4-4522-b335-2fc0754e8d0e\")) {                    Plotly.newPlot(                        \"f6d3721c-e8f4-4522-b335-2fc0754e8d0e\",                        [{\"line\":{\"color\":\"green\",\"width\":2},\"mode\":\"lines\",\"name\":\"\\u00d3rbita Modificada del Asteroide (Amor)\",\"x\":[0.7199999999999999,0.7191400001375948,0.7165549946447017,0.7122299139315398,0.7061394684579003,0.6982478861293607,0.6885085401185701,0.6768634625882157,0.663242738525806,0.6475637726751332,0.6297304214015709,0.6096319803153866,0.5871420176856715,0.5621170432348673,0.5343950019947501,0.503793583792039,0.4701083409862145,0.4331106108214613,0.3925452448966206,0.3481281577892535,0.2995437211415326,0.24644205035553746,0.18843626091084595,0.12509981347500038,0.055964125713657706,-0.01948329045041622,-0.10179979746770901,-0.19158719054800136,-0.28948913479355803,-0.3961855172882449,-0.5123824301563029,-0.6387961078245946,-0.7761286815616364,-0.9250331125827821,-1.0860641838845078,-1.2596120924543648,-1.4458151993069905,-1.6444491988186363,-1.8547918382692496,-2.075465954406355,-2.304269610674107,-2.53801087438798,-2.7723758808970307,-3.001870479689428,-3.219884068778792,-3.4189232200242783,-3.5910456878244656,-3.728488370244807,-3.82442918168288,-3.873766809028541,-3.873766809028541,-3.82442918168288,-3.728488370244807,-3.5910456878244656,-3.4189232200242783,-3.2198840687787937,-3.001870479689428,-2.772375880897032,-2.5380108743879797,-2.3042696106741083,-2.0754659544063543,-1.8547918382692499,-1.6444491988186354,-1.4458151993069916,-1.2596120924543641,-1.0860641838845084,-0.9250331125827804,-0.7761286815616357,-0.6387961078245946,-0.5123824301563036,-0.3961855172882442,-0.28948913479355776,-0.19158719054800136,-0.10179979746770934,-0.019483290450415695,0.05596412571365794,0.12509981347500015,0.1884362609108455,0.24644205035553762,0.2995437211415326,0.34812815778925327,0.39254524489662096,0.4331106108214614,0.4701083409862145,0.5037935837920388,0.5343950019947502,0.5621170432348674,0.5871420176856715,0.6096319803153863,0.6297304214015709,0.6475637726751332,0.663242738525806,0.6768634625882157,0.6885085401185702,0.6982478861293607,0.7061394684579003,0.7122299139315398,0.7165549946447017,0.7191400001375948,0.7199999999999999],\"y\":[0.0,0.0451400159189379,0.09032030240553145,0.13558102985331758,0.18096216096023965,0.22650332821951602,0.27224368818450456,0.3182217433412691,0.36447512112630537,0.41104029790884017,0.45795225354677205,0.5052440393325962,0.5529462386581171,0.6010862954061947,0.6496876797570266,0.6987688545762302,0.7483419975990169,0.79841142497226,0.8489716500690243,0.9000049975374109,0.9514786759874996,1.0033411933156309,1.0555179763141653,1.1079060310933573,1.1603674536183382,1.2127215718343873,1.2647354752507176,1.3161126694009562,1.3664795893972894,1.4153697316269345,1.4622052349617134,1.506275891249901,1.5467158297073516,1.5824785554267473,1.6123116968608533,1.6347338079926912,1.6480169487549705,1.6501805632643187,1.6390043206751141,1.6120698138597176,1.5668427421394573,1.500807409538943,1.4116625525729498,1.2975799268046344,1.1575134085841292,0.9915269268558268,0.8010877760221483,0.5892551904662552,0.3606926296565819,0.12145457854539456,-0.12145457854539533,-0.3606926296565826,-0.5892551904662559,-0.8010877760221475,-0.9915269268558274,-1.157513408584129,-1.297579926804635,-1.4116625525729496,-1.5008074095389432,-1.5668427421394573,-1.6120698138597176,-1.6390043206751137,-1.6501805632643185,-1.6480169487549707,-1.6347338079926912,-1.6123116968608535,-1.5824785554267469,-1.546715829707351,-1.506275891249901,-1.4622052349617138,-1.4153697316269342,-1.3664795893972894,-1.3161126694009562,-1.2647354752507176,-1.212721571834387,-1.1603674536183382,-1.1079060310933575,-1.0555179763141656,-1.0033411933156307,-0.9514786759874996,-0.900004997537411,-0.8489716500690241,-0.7984114249722599,-0.7483419975990169,-0.6987688545762303,-0.6496876797570262,-0.6010862954061946,-0.5529462386581171,-0.5052440393325964,-0.45795225354677177,-0.4110402979088401,-0.3644751211263055,-0.3182217433412694,-0.27224368818450434,-0.22650332821951596,-0.18096216096023976,-0.13558102985331724,-0.09032030240553128,-0.045140015918937904,-1.7417798854055942e-16],\"z\":[0.0,0.0071494761575616374,0.014305330546442965,0.021473925531941954,0.02866159058360621,0.035874602871692786,0.04311916418499032,0.05040137271820515,0.05772718807180745,0.06510238753512232,0.07253251137336562,0.08002279439700125,0.08757808053942336,0.09520271648465904,0.10290041954406322,0.1106741139482735,0.11852572846106577,0.1264559466929469,0.1344638996475805,0.14254678782424848,0.1506994175770109,0.15891363335784858,0.16717762393100621,0.17547507666689968,0.18378414971214782,0.19207622742448135,0.20031442040617134,0.2084517685471019,0.21642910498159185,0.22417254279602114,0.23159055777901807,0.23857066400995766,0.24497572102929965,0.2506399803268461,0.25536508573600963,0.25891639925852034,0.261020242073906,0.26136292494704716,0.25959278201962477,0.2553267752322508,0.24816351079031967,0.2377045415947426,0.22358538331637293,0.2055164704833048,0.1833321133867436,0.15704243737676754,0.12687983905609546,0.09332885355032586,0.05712810027734296,0.019236515447764748,-0.019236515447764873,-0.05712810027734308,-0.09332885355032595,-0.12687983905609532,-0.15704243737676765,-0.18333211338674357,-0.2055164704833049,-0.2235853833163729,-0.23770454159474264,-0.24816351079031967,-0.2553267752322508,-0.25959278201962466,-0.26136292494704716,-0.26102024207390606,-0.25891639925852034,-0.2553650857360097,-0.250639980326846,-0.2449757210292996,-0.23857066400995766,-0.23159055777901813,-0.22417254279602108,-0.21642910498159185,-0.2084517685471019,-0.20031442040617134,-0.1920762274244813,-0.18378414971214782,-0.1754750766668997,-0.16717762393100624,-0.15891363335784853,-0.1506994175770109,-0.1425467878242485,-0.13446389964758043,-0.12645594669294688,-0.11852572846106577,-0.11067411394827352,-0.10290041954406316,-0.09520271648465901,-0.08757808053942336,-0.08002279439700127,-0.07253251137336558,-0.0651023875351223,-0.05772718807180747,-0.05040137271820519,-0.04311916418499029,-0.03587460287169278,-0.028661590583606227,-0.021473925531941895,-0.01430533054644294,-0.007149476157561639,-2.758708323185e-17],\"type\":\"scatter3d\"},{\"marker\":{\"color\":\"yellow\",\"size\":23},\"mode\":\"markers\",\"name\":\"Sol\",\"x\":[0],\"y\":[0],\"z\":[0],\"type\":\"scatter3d\"},{\"marker\":{\"color\":\"blue\",\"size\":3},\"mode\":\"markers\",\"name\":\"Tierra\",\"x\":[-1],\"y\":[0],\"z\":[0],\"type\":\"scatter3d\"},{\"marker\":{\"color\":\"red\",\"size\":2.6},\"mode\":\"markers\",\"name\":\"Marte\",\"x\":[-1.524],\"y\":[0],\"z\":[0],\"type\":\"scatter3d\"},{\"marker\":{\"color\":\"brown\",\"size\":9},\"mode\":\"markers\",\"name\":\"J\\u00fapiter\",\"x\":[-5.203],\"y\":[0],\"z\":[0],\"type\":\"scatter3d\"}],                        {\"template\":{\"data\":{\"histogram2dcontour\":[{\"type\":\"histogram2dcontour\",\"colorbar\":{\"outlinewidth\":0,\"ticks\":\"\"},\"colorscale\":[[0.0,\"#0d0887\"],[0.1111111111111111,\"#46039f\"],[0.2222222222222222,\"#7201a8\"],[0.3333333333333333,\"#9c179e\"],[0.4444444444444444,\"#bd3786\"],[0.5555555555555556,\"#d8576b\"],[0.6666666666666666,\"#ed7953\"],[0.7777777777777778,\"#fb9f3a\"],[0.8888888888888888,\"#fdca26\"],[1.0,\"#f0f921\"]]}],\"choropleth\":[{\"type\":\"choropleth\",\"colorbar\":{\"outlinewidth\":0,\"ticks\":\"\"}}],\"histogram2d\":[{\"type\":\"histogram2d\",\"colorbar\":{\"outlinewidth\":0,\"ticks\":\"\"},\"colorscale\":[[0.0,\"#0d0887\"],[0.1111111111111111,\"#46039f\"],[0.2222222222222222,\"#7201a8\"],[0.3333333333333333,\"#9c179e\"],[0.4444444444444444,\"#bd3786\"],[0.5555555555555556,\"#d8576b\"],[0.6666666666666666,\"#ed7953\"],[0.7777777777777778,\"#fb9f3a\"],[0.8888888888888888,\"#fdca26\"],[1.0,\"#f0f921\"]]}],\"heatmap\":[{\"type\":\"heatmap\",\"colorbar\":{\"outlinewidth\":0,\"ticks\":\"\"},\"colorscale\":[[0.0,\"#0d0887\"],[0.1111111111111111,\"#46039f\"],[0.2222222222222222,\"#7201a8\"],[0.3333333333333333,\"#9c179e\"],[0.4444444444444444,\"#bd3786\"],[0.5555555555555556,\"#d8576b\"],[0.6666666666666666,\"#ed7953\"],[0.7777777777777778,\"#fb9f3a\"],[0.8888888888888888,\"#fdca26\"],[1.0,\"#f0f921\"]]}],\"heatmapgl\":[{\"type\":\"heatmapgl\",\"colorbar\":{\"outlinewidth\":0,\"ticks\":\"\"},\"colorscale\":[[0.0,\"#0d0887\"],[0.1111111111111111,\"#46039f\"],[0.2222222222222222,\"#7201a8\"],[0.3333333333333333,\"#9c179e\"],[0.4444444444444444,\"#bd3786\"],[0.5555555555555556,\"#d8576b\"],[0.6666666666666666,\"#ed7953\"],[0.7777777777777778,\"#fb9f3a\"],[0.8888888888888888,\"#fdca26\"],[1.0,\"#f0f921\"]]}],\"contourcarpet\":[{\"type\":\"contourcarpet\",\"colorbar\":{\"outlinewidth\":0,\"ticks\":\"\"}}],\"contour\":[{\"type\":\"contour\",\"colorbar\":{\"outlinewidth\":0,\"ticks\":\"\"},\"colorscale\":[[0.0,\"#0d0887\"],[0.1111111111111111,\"#46039f\"],[0.2222222222222222,\"#7201a8\"],[0.3333333333333333,\"#9c179e\"],[0.4444444444444444,\"#bd3786\"],[0.5555555555555556,\"#d8576b\"],[0.6666666666666666,\"#ed7953\"],[0.7777777777777778,\"#fb9f3a\"],[0.8888888888888888,\"#fdca26\"],[1.0,\"#f0f921\"]]}],\"surface\":[{\"type\":\"surface\",\"colorbar\":{\"outlinewidth\":0,\"ticks\":\"\"},\"colorscale\":[[0.0,\"#0d0887\"],[0.1111111111111111,\"#46039f\"],[0.2222222222222222,\"#7201a8\"],[0.3333333333333333,\"#9c179e\"],[0.4444444444444444,\"#bd3786\"],[0.5555555555555556,\"#d8576b\"],[0.6666666666666666,\"#ed7953\"],[0.7777777777777778,\"#fb9f3a\"],[0.8888888888888888,\"#fdca26\"],[1.0,\"#f0f921\"]]}],\"mesh3d\":[{\"type\":\"mesh3d\",\"colorbar\":{\"outlinewidth\":0,\"ticks\":\"\"}}],\"scatter\":[{\"fillpattern\":{\"fillmode\":\"overlay\",\"size\":10,\"solidity\":0.2},\"type\":\"scatter\"}],\"parcoords\":[{\"type\":\"parcoords\",\"line\":{\"colorbar\":{\"outlinewidth\":0,\"ticks\":\"\"}}}],\"scatterpolargl\":[{\"type\":\"scatterpolargl\",\"marker\":{\"colorbar\":{\"outlinewidth\":0,\"ticks\":\"\"}}}],\"bar\":[{\"error_x\":{\"color\":\"#2a3f5f\"},\"error_y\":{\"color\":\"#2a3f5f\"},\"marker\":{\"line\":{\"color\":\"#E5ECF6\",\"width\":0.5},\"pattern\":{\"fillmode\":\"overlay\",\"size\":10,\"solidity\":0.2}},\"type\":\"bar\"}],\"scattergeo\":[{\"type\":\"scattergeo\",\"marker\":{\"colorbar\":{\"outlinewidth\":0,\"ticks\":\"\"}}}],\"scatterpolar\":[{\"type\":\"scatterpolar\",\"marker\":{\"colorbar\":{\"outlinewidth\":0,\"ticks\":\"\"}}}],\"histogram\":[{\"marker\":{\"pattern\":{\"fillmode\":\"overlay\",\"size\":10,\"solidity\":0.2}},\"type\":\"histogram\"}],\"scattergl\":[{\"type\":\"scattergl\",\"marker\":{\"colorbar\":{\"outlinewidth\":0,\"ticks\":\"\"}}}],\"scatter3d\":[{\"type\":\"scatter3d\",\"line\":{\"colorbar\":{\"outlinewidth\":0,\"ticks\":\"\"}},\"marker\":{\"colorbar\":{\"outlinewidth\":0,\"ticks\":\"\"}}}],\"scattermapbox\":[{\"type\":\"scattermapbox\",\"marker\":{\"colorbar\":{\"outlinewidth\":0,\"ticks\":\"\"}}}],\"scatterternary\":[{\"type\":\"scatterternary\",\"marker\":{\"colorbar\":{\"outlinewidth\":0,\"ticks\":\"\"}}}],\"scattercarpet\":[{\"type\":\"scattercarpet\",\"marker\":{\"colorbar\":{\"outlinewidth\":0,\"ticks\":\"\"}}}],\"carpet\":[{\"aaxis\":{\"endlinecolor\":\"#2a3f5f\",\"gridcolor\":\"white\",\"linecolor\":\"white\",\"minorgridcolor\":\"white\",\"startlinecolor\":\"#2a3f5f\"},\"baxis\":{\"endlinecolor\":\"#2a3f5f\",\"gridcolor\":\"white\",\"linecolor\":\"white\",\"minorgridcolor\":\"white\",\"startlinecolor\":\"#2a3f5f\"},\"type\":\"carpet\"}],\"table\":[{\"cells\":{\"fill\":{\"color\":\"#EBF0F8\"},\"line\":{\"color\":\"white\"}},\"header\":{\"fill\":{\"color\":\"#C8D4E3\"},\"line\":{\"color\":\"white\"}},\"type\":\"table\"}],\"barpolar\":[{\"marker\":{\"line\":{\"color\":\"#E5ECF6\",\"width\":0.5},\"pattern\":{\"fillmode\":\"overlay\",\"size\":10,\"solidity\":0.2}},\"type\":\"barpolar\"}],\"pie\":[{\"automargin\":true,\"type\":\"pie\"}]},\"layout\":{\"autotypenumbers\":\"strict\",\"colorway\":[\"#636efa\",\"#EF553B\",\"#00cc96\",\"#ab63fa\",\"#FFA15A\",\"#19d3f3\",\"#FF6692\",\"#B6E880\",\"#FF97FF\",\"#FECB52\"],\"font\":{\"color\":\"#2a3f5f\"},\"hovermode\":\"closest\",\"hoverlabel\":{\"align\":\"left\"},\"paper_bgcolor\":\"white\",\"plot_bgcolor\":\"#E5ECF6\",\"polar\":{\"bgcolor\":\"#E5ECF6\",\"angularaxis\":{\"gridcolor\":\"white\",\"linecolor\":\"white\",\"ticks\":\"\"},\"radialaxis\":{\"gridcolor\":\"white\",\"linecolor\":\"white\",\"ticks\":\"\"}},\"ternary\":{\"bgcolor\":\"#E5ECF6\",\"aaxis\":{\"gridcolor\":\"white\",\"linecolor\":\"white\",\"ticks\":\"\"},\"baxis\":{\"gridcolor\":\"white\",\"linecolor\":\"white\",\"ticks\":\"\"},\"caxis\":{\"gridcolor\":\"white\",\"linecolor\":\"white\",\"ticks\":\"\"}},\"coloraxis\":{\"colorbar\":{\"outlinewidth\":0,\"ticks\":\"\"}},\"colorscale\":{\"sequential\":[[0.0,\"#0d0887\"],[0.1111111111111111,\"#46039f\"],[0.2222222222222222,\"#7201a8\"],[0.3333333333333333,\"#9c179e\"],[0.4444444444444444,\"#bd3786\"],[0.5555555555555556,\"#d8576b\"],[0.6666666666666666,\"#ed7953\"],[0.7777777777777778,\"#fb9f3a\"],[0.8888888888888888,\"#fdca26\"],[1.0,\"#f0f921\"]],\"sequentialminus\":[[0.0,\"#0d0887\"],[0.1111111111111111,\"#46039f\"],[0.2222222222222222,\"#7201a8\"],[0.3333333333333333,\"#9c179e\"],[0.4444444444444444,\"#bd3786\"],[0.5555555555555556,\"#d8576b\"],[0.6666666666666666,\"#ed7953\"],[0.7777777777777778,\"#fb9f3a\"],[0.8888888888888888,\"#fdca26\"],[1.0,\"#f0f921\"]],\"diverging\":[[0,\"#8e0152\"],[0.1,\"#c51b7d\"],[0.2,\"#de77ae\"],[0.3,\"#f1b6da\"],[0.4,\"#fde0ef\"],[0.5,\"#f7f7f7\"],[0.6,\"#e6f5d0\"],[0.7,\"#b8e186\"],[0.8,\"#7fbc41\"],[0.9,\"#4d9221\"],[1,\"#276419\"]]},\"xaxis\":{\"gridcolor\":\"white\",\"linecolor\":\"white\",\"ticks\":\"\",\"title\":{\"standoff\":15},\"zerolinecolor\":\"white\",\"automargin\":true,\"zerolinewidth\":2},\"yaxis\":{\"gridcolor\":\"white\",\"linecolor\":\"white\",\"ticks\":\"\",\"title\":{\"standoff\":15},\"zerolinecolor\":\"white\",\"automargin\":true,\"zerolinewidth\":2},\"scene\":{\"xaxis\":{\"backgroundcolor\":\"#E5ECF6\",\"gridcolor\":\"white\",\"linecolor\":\"white\",\"showbackground\":true,\"ticks\":\"\",\"zerolinecolor\":\"white\",\"gridwidth\":2},\"yaxis\":{\"backgroundcolor\":\"#E5ECF6\",\"gridcolor\":\"white\",\"linecolor\":\"white\",\"showbackground\":true,\"ticks\":\"\",\"zerolinecolor\":\"white\",\"gridwidth\":2},\"zaxis\":{\"backgroundcolor\":\"#E5ECF6\",\"gridcolor\":\"white\",\"linecolor\":\"white\",\"showbackground\":true,\"ticks\":\"\",\"zerolinecolor\":\"white\",\"gridwidth\":2}},\"shapedefaults\":{\"line\":{\"color\":\"#2a3f5f\"}},\"annotationdefaults\":{\"arrowcolor\":\"#2a3f5f\",\"arrowhead\":0,\"arrowwidth\":1},\"geo\":{\"bgcolor\":\"white\",\"landcolor\":\"#E5ECF6\",\"subunitcolor\":\"white\",\"showland\":true,\"showlakes\":true,\"lakecolor\":\"white\"},\"title\":{\"x\":0.05},\"mapbox\":{\"style\":\"light\"}}},\"margin\":{\"l\":0,\"r\":0,\"b\":0,\"t\":40},\"title\":{\"text\":\"\\u00d3rbita del Objeto\"},\"scene\":{\"xaxis\":{\"title\":{\"text\":\"X (AU)\"}},\"yaxis\":{\"title\":{\"text\":\"Y (AU)\"}},\"zaxis\":{\"title\":{\"text\":\"Z (AU)\"}}}},                        {\"responsive\": true}                    ).then(function(){\n",
              "                            \n",
              "var gd = document.getElementById('f6d3721c-e8f4-4522-b335-2fc0754e8d0e');\n",
              "var x = new MutationObserver(function (mutations, observer) {{\n",
              "        var display = window.getComputedStyle(gd).display;\n",
              "        if (!display || display === 'none') {{\n",
              "            console.log([gd, 'removed!']);\n",
              "            Plotly.purge(gd);\n",
              "            observer.disconnect();\n",
              "        }}\n",
              "}});\n",
              "\n",
              "// Listen for the removal of the full notebook cells\n",
              "var notebookContainer = gd.closest('#notebook-container');\n",
              "if (notebookContainer) {{\n",
              "    x.observe(notebookContainer, {childList: true});\n",
              "}}\n",
              "\n",
              "// Listen for the clearing of the current output cell\n",
              "var outputEl = gd.closest('.output');\n",
              "if (outputEl) {{\n",
              "    x.observe(outputEl, {childList: true});\n",
              "}}\n",
              "\n",
              "                        })                };                            </script>        </div>\n",
              "</body>\n",
              "</html>"
            ]
          },
          "metadata": {}
        }
      ],
      "source": [
        "# @title\n",
        "\n",
        "\n",
        "import numpy as np\n",
        "import plotly.graph_objects as go\n",
        "print(\"Generador de Órbitas\")\n",
        "# Solicitar entrada del usuario\n",
        "perihelio_input = float(input(\"Introduce el valor del afelio (en AU): \"))  # Aquí se usa \"afelio\" pero se refiere al perihelio\n",
        "afelio_input = float(input(\"Introduce el valor del perihelio (en AU): \"))   # Aquí se usa \"perihelio\" pero se refiere al afelio\n",
        "inclinacion_input = float(input(\"Introduce el valor de la inclinación (en grados): \"))  # Entrada para la inclinación\n",
        "\n",
        "# Parámetros del asteroide (Amor)\n",
        "afelio = perihelio_input  # Ahora, afelio corresponde al valor ingresado para perihelio\n",
        "perihelio = afelio_input   # Ahora, perihelio corresponde al valor ingresado para afelio\n",
        "a_modified = (perihelio + afelio) / 2  # Semieje mayor en AU\n",
        "e_modified = (afelio - perihelio) / (afelio + perihelio)  # Excentricidad\n",
        "\n",
        "num_points = 100\n",
        "\n",
        "# Generar puntos de la órbita modificada del asteroide\n",
        "theta = np.linspace(0, 2 * np.pi, num_points)\n",
        "r_modified = a_modified * (1 - e_modified**2) / (1 + e_modified * np.cos(theta))\n",
        "x_asteroid_modified = r_modified * np.cos(theta)\n",
        "y_asteroid_modified = r_modified * np.sin(theta)\n",
        "\n",
        "# Aplicar la inclinación al eje Z mediante una rotación\n",
        "inclinacion_rad = np.radians(inclinacion_input)\n",
        "\n",
        "# Rotación de las coordenadas para aplicar la inclinación\n",
        "z_asteroid_modified = y_asteroid_modified * np.sin(inclinacion_rad)\n",
        "y_asteroid_modified = y_asteroid_modified * np.cos(inclinacion_rad)\n",
        "\n",
        "# Posiciones de los planetas (en AU) - invertidas en el eje X\n",
        "sun_position = [0, 0, 0]\n",
        "earth_position = [-1, 0, 0]  # Tierra en -1 AU\n",
        "mars_position = [-1.524, 0, 0]  # Marte en 1.524 AU\n",
        "jupiter_position = [-5.203, 0, 0]  # Júpiter en 5.203 AU\n",
        "\n",
        "# Graficar con Plotly\n",
        "fig = go.Figure()\n",
        "\n",
        "# Añadir la órbita modificada del asteroide (Amor)\n",
        "fig.add_trace(go.Scatter3d(x=x_asteroid_modified, y=y_asteroid_modified, z=z_asteroid_modified,\n",
        "                             mode='lines', name='Órbita Modificada del Asteroide (Amor)', line=dict(color='green', width=2)))\n",
        "\n",
        "# Añadir el Sol\n",
        "fig.add_trace(go.Scatter3d(x=[sun_position[0]], y=[sun_position[1]], z=[sun_position[2]],\n",
        "                             mode='markers', name='Sol', marker=dict(size=23, color='yellow')))\n",
        "\n",
        "# Añadir la Tierra\n",
        "fig.add_trace(go.Scatter3d(x=[earth_position[0]], y=[earth_position[1]], z=[earth_position[2]],\n",
        "                             mode='markers', name='Tierra', marker=dict(size=3, color='blue')))\n",
        "\n",
        "# Añadir Marte\n",
        "fig.add_trace(go.Scatter3d(x=[mars_position[0]], y=[mars_position[1]], z=[mars_position[2]],\n",
        "                             mode='markers', name='Marte', marker=dict(size=2.6, color='red')))\n",
        "\n",
        "# Añadir Júpiter\n",
        "fig.add_trace(go.Scatter3d(x=[jupiter_position[0]], y=[jupiter_position[1]], z=[jupiter_position[2]],\n",
        "                             mode='markers', name='Júpiter', marker=dict(size=9, color='brown')))\n",
        "\n",
        "# Configuración del diseño\n",
        "fig.update_layout(title='Órbita del Objeto',\n",
        "                  scene=dict(xaxis_title='X (AU)', yaxis_title='Y (AU)', zaxis_title='Z (AU)'),\n",
        "                  margin=dict(l=0, r=0, b=0, t=40))\n",
        "\n",
        "# Mostrar la figura\n",
        "fig.show()\n"
      ]
    }
  ]
}